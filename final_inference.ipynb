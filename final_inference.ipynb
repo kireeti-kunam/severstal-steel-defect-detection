{
  "nbformat": 4,
  "nbformat_minor": 0,
  "metadata": {
    "colab": {
      "name": "final_inference.ipynb",
      "provenance": [],
      "collapsed_sections": [],
      "authorship_tag": "ABX9TyPKOd66RC7JrspvEdUAz+GT",
      "include_colab_link": true
    },
    "kernelspec": {
      "name": "python3",
      "display_name": "Python 3"
    },
    "accelerator": "GPU"
  },
  "cells": [
    {
      "cell_type": "markdown",
      "metadata": {
        "id": "view-in-github",
        "colab_type": "text"
      },
      "source": [
        "<a href=\"https://colab.research.google.com/github/kireeti-kunam/severstal-steel-defect-detection/blob/main/final_inference.ipynb\" target=\"_parent\"><img src=\"https://colab.research.google.com/assets/colab-badge.svg\" alt=\"Open In Colab\"/></a>"
      ]
    },
    {
      "cell_type": "code",
      "metadata": {
        "id": "v7hkuXY989-N"
      },
      "source": [
        "# reading libraries"
      ],
      "execution_count": null,
      "outputs": []
    },
    {
      "cell_type": "code",
      "metadata": {
        "id": "TR-bd2gN0h5c"
      },
      "source": [
        "# reading and loading data"
      ],
      "execution_count": null,
      "outputs": []
    },
    {
      "cell_type": "code",
      "metadata": {
        "id": "2R6G-UTW7waI"
      },
      "source": [
        "# writing supporting functions:\n",
        " #(rle2mask,mask2rle) \n",
        " # copy and paste the functions that are in  seg notebook adn binary notebook"
      ],
      "execution_count": null,
      "outputs": []
    },
    {
      "cell_type": "code",
      "metadata": {
        "id": "iy_IjkxY746c"
      },
      "source": [
        "# Loading Binary model and segmodels"
      ],
      "execution_count": null,
      "outputs": []
    },
    {
      "cell_type": "code",
      "metadata": {
        "id": "aQ3J_ZjH8sTx"
      },
      "source": [
        "# write for loop to predict the mask for given test image"
      ],
      "execution_count": null,
      "outputs": []
    },
    {
      "cell_type": "markdown",
      "metadata": {
        "id": "lq0wZigz9ZlC"
      },
      "source": [
        "## 1. Importing Libraries:"
      ]
    },
    {
      "cell_type": "code",
      "metadata": {
        "id": "dEZYzGqs9BOv",
        "outputId": "4a5900f2-6912-44c5-b600-4a18e3b388de",
        "colab": {
          "base_uri": "https://localhost:8080/",
          "height": 34
        }
      },
      "source": [
        "#scikit-learn/python libraries:\n",
        "#------------------------\n",
        "import pandas as pd\n",
        "import numpy  as np\n",
        "import matplotlib.pyplot as plt\n",
        "import math\n",
        "import os\n",
        "from datetime import datetime\n",
        "import pickle\n",
        "from glob import glob\n",
        "from tqdm import tqdm\n",
        "from PIL import Image\n",
        "\n",
        "\n",
        "#tensor-flow and keras libraries:\n",
        "#------------------------\n",
        "\n",
        "import tensorflow as tf\n",
        "import keras\n",
        "from tensorflow.keras.models import Model, load_model\n",
        "from tensorflow.keras.callbacks import Callback, ModelCheckpoint"
      ],
      "execution_count": null,
      "outputs": [
        {
          "output_type": "stream",
          "text": [
            "Using TensorFlow backend.\n"
          ],
          "name": "stderr"
        }
      ]
    },
    {
      "cell_type": "markdown",
      "metadata": {
        "id": "h9pTghhw-Ivg"
      },
      "source": [
        "<br>"
      ]
    },
    {
      "cell_type": "markdown",
      "metadata": {
        "id": "q7aFpJSfu5ke"
      },
      "source": [
        "## 2.Downloading and Loading Data:"
      ]
    },
    {
      "cell_type": "markdown",
      "metadata": {
        "id": "WCsjHtP8vDWz"
      },
      "source": [
        "#### Kaggle data files:"
      ]
    },
    {
      "cell_type": "code",
      "metadata": {
        "id": "Ba_HcvDIIL3L",
        "outputId": "5494cec5-6fc2-4189-d57a-1ea7440e571d",
        "colab": {
          "base_uri": "https://localhost:8080/",
          "height": 156
        }
      },
      "source": [
        "!wget --header=\"Host: storage.googleapis.com\" --header=\"User-Agent: Mozilla/5.0 (Windows NT 10.0; Win64; x64) AppleWebKit/537.36 (KHTML, like Gecko) Chrome/84.0.4147.89 Safari/537.36\" --header=\"Accept: text/html,application/xhtml+xml,application/xml;q=0.9,image/webp,image/apng,*/*;q=0.8,application/signed-exchange;v=b3;q=0.9\" --header=\"Accept-Language: en-US,en;q=0.9,zh-CN;q=0.8,zh;q=0.7\" --header=\"Referer: https://www.kaggle.com/\" \"https://storage.googleapis.com/kaggle-competitions-data/kaggle-v2/14241/862020/bundle/archive.zip?GoogleAccessId=web-data@kaggle-161607.iam.gserviceaccount.com&Expires=1595736359&Signature=cAlXZzp1lfUnzqZ2d%2B66PDHFIGHOhfLxwkWiA9bCgmI2MTyDUcbsOxf3X2UatZWXu1uJsfDrfwX0QCU%2BpXcovy14b42%2FesOogpu407OidXt2Taim9cyjdSUwtyncLFSey0TbXISB%2BiH%2BYs2XLXkMi9fxJaOeYhKDb8Nue5R7FYhNRoXu8u9WeAedE37tUaNgO3IgXve1iwFycKMXwkfKMzlt%2BoC1xP9navyO0%2FHz08wf3LdBrH%2BLss7ZI%2FbVggW9%2F2Hxn1j1%2BoQXiRBdnDmjpT7aUff65pqG%2FW%2ByDj0mziZ%2BDouTnvg%2Fp69bWUF8P6BEvNy6pzdC1sNm9c0CnJ2hxg%3D%3D&response-content-disposition=attachment%3B+filename%3Dseverstal-steel-defect-detection.zip\" -c -O 'severstal-steel-defect-detection.zip'"
      ],
      "execution_count": null,
      "outputs": [
        {
          "output_type": "stream",
          "text": [
            "--2020-07-24 14:16:47--  https://storage.googleapis.com/kaggle-competitions-data/kaggle-v2/14241/862020/bundle/archive.zip?GoogleAccessId=web-data@kaggle-161607.iam.gserviceaccount.com&Expires=1595736359&Signature=cAlXZzp1lfUnzqZ2d%2B66PDHFIGHOhfLxwkWiA9bCgmI2MTyDUcbsOxf3X2UatZWXu1uJsfDrfwX0QCU%2BpXcovy14b42%2FesOogpu407OidXt2Taim9cyjdSUwtyncLFSey0TbXISB%2BiH%2BYs2XLXkMi9fxJaOeYhKDb8Nue5R7FYhNRoXu8u9WeAedE37tUaNgO3IgXve1iwFycKMXwkfKMzlt%2BoC1xP9navyO0%2FHz08wf3LdBrH%2BLss7ZI%2FbVggW9%2F2Hxn1j1%2BoQXiRBdnDmjpT7aUff65pqG%2FW%2ByDj0mziZ%2BDouTnvg%2Fp69bWUF8P6BEvNy6pzdC1sNm9c0CnJ2hxg%3D%3D&response-content-disposition=attachment%3B+filename%3Dseverstal-steel-defect-detection.zip\n",
            "Resolving storage.googleapis.com (storage.googleapis.com)... 108.177.112.128, 74.125.124.128, 172.217.212.128, ...\n",
            "Connecting to storage.googleapis.com (storage.googleapis.com)|108.177.112.128|:443... connected.\n",
            "HTTP request sent, awaiting response... 416 Requested range not satisfiable\n",
            "\n",
            "    The file is already fully retrieved; nothing to do.\n",
            "\n"
          ],
          "name": "stdout"
        }
      ]
    },
    {
      "cell_type": "code",
      "metadata": {
        "id": "sPDEpLniIQ67"
      },
      "source": [
        "## unzipping the data files:\n",
        "\n",
        "from zipfile import ZipFile\n",
        "with ZipFile('severstal-steel-defect-detection.zip', 'r') as zf:\n",
        "    zf.extractall('case_study_2_data/')"
      ],
      "execution_count": null,
      "outputs": []
    },
    {
      "cell_type": "code",
      "metadata": {
        "id": "ohicr74N-bVK",
        "outputId": "fc3deb0b-112f-4222-80f4-634d5b436bd1",
        "colab": {
          "base_uri": "https://localhost:8080/",
          "height": 34
        }
      },
      "source": [
        "test_images = glob('/content/case_study_2_data/test_images/*.jpg')\n",
        "print(\"we have {0} test images\".format(len(test_images)))"
      ],
      "execution_count": null,
      "outputs": [
        {
          "output_type": "stream",
          "text": [
            "we have 5506 test images\n"
          ],
          "name": "stdout"
        }
      ]
    },
    {
      "cell_type": "markdown",
      "metadata": {
        "id": "wOOajcB2vISY"
      },
      "source": [
        "#### Google drive data files:"
      ]
    },
    {
      "cell_type": "code",
      "metadata": {
        "id": "GrXmM9MnIUMX",
        "outputId": "5803af91-4487-404b-b325-aa0558497b14",
        "colab": {
          "base_uri": "https://localhost:8080/",
          "height": 122
        }
      },
      "source": [
        "## Mounting google drive:\n",
        "\n",
        "from google.colab import drive\n",
        "drive.mount('/content/drive')"
      ],
      "execution_count": null,
      "outputs": [
        {
          "output_type": "stream",
          "text": [
            "Go to this URL in a browser: https://accounts.google.com/o/oauth2/auth?client_id=947318989803-6bn6qk8qdgf4n4g3pfee6491hc0brc4i.apps.googleusercontent.com&redirect_uri=urn%3aietf%3awg%3aoauth%3a2.0%3aoob&response_type=code&scope=email%20https%3a%2f%2fwww.googleapis.com%2fauth%2fdocs.test%20https%3a%2f%2fwww.googleapis.com%2fauth%2fdrive%20https%3a%2f%2fwww.googleapis.com%2fauth%2fdrive.photos.readonly%20https%3a%2f%2fwww.googleapis.com%2fauth%2fpeopleapi.readonly\n",
            "\n",
            "Enter your authorization code:\n",
            "··········\n",
            "Mounted at /content/drive\n"
          ],
          "name": "stdout"
        }
      ]
    },
    {
      "cell_type": "markdown",
      "metadata": {
        "id": "wGdqzHhBC6Wr"
      },
      "source": [
        "<br>"
      ]
    },
    {
      "cell_type": "markdown",
      "metadata": {
        "id": "0xnnG8DyC9gN"
      },
      "source": [
        "<br>"
      ]
    },
    {
      "cell_type": "markdown",
      "metadata": {
        "id": "y-rNaGWdDBHw"
      },
      "source": [
        "## 3. Supporting functions:"
      ]
    },
    {
      "cell_type": "markdown",
      "metadata": {
        "id": "Grm9o23QVZx2"
      },
      "source": [
        "### 3.1 Bianry model supporting functions:"
      ]
    },
    {
      "cell_type": "code",
      "metadata": {
        "id": "_DmV0H8WVZYm"
      },
      "source": [
        "# resizing and normalizing the test image for binary classification and segmentation also:\n",
        "\n",
        "@tf.function\n",
        "def val_image_resize(filename):\n",
        "    image = tf.io.read_file(filename)\n",
        "    image = tf.image.decode_jpeg(image)\n",
        "    image = tf.image.convert_image_dtype(image, tf.float32)\n",
        "    image = tf.image.resize(image, [256, 800])\n",
        "\n",
        "    return image\n",
        "\n"
      ],
      "execution_count": null,
      "outputs": []
    },
    {
      "cell_type": "markdown",
      "metadata": {
        "id": "qmdm7KfrcOFw"
      },
      "source": [
        "### 3.2 Segmentation model supporting functions:"
      ]
    },
    {
      "cell_type": "code",
      "metadata": {
        "id": "bMLZCHWaC7SB"
      },
      "source": [
        "def mask2rle(img):\n",
        "    '''\n",
        "    img: numpy array, 1 - mask, 0 - background\n",
        "    Returns run length as string formated\n",
        "    '''\n",
        "    pixels= img.T.flatten()\n",
        "    pixels = np.concatenate([[0], pixels, [0]])\n",
        "    runs = np.where(pixels[1:] != pixels[:-1])[0] + 1\n",
        "    runs[1::2] -= runs[::2]\n",
        "    return ' '.join(str(x) for x in runs)\n",
        "\n",
        "\n",
        "@tf.function\n",
        "def DiceLoss(y_true,y_pred):\n",
        "\n",
        "  smooth = 1e-6\n",
        "  intersection = tf.reduce_sum(y_true * y_pred)\n",
        "  dice_score = (2 * intersection + smooth) / (tf.reduce_sum(y_true) + tf.reduce_sum(y_pred) + smooth)\n",
        "  dice_score = tf.cast(dice_score,'float32')\n",
        "  \n",
        "  return 1.0 - dice_score\n",
        "\n",
        "@tf.function\n",
        "def Dicecoef(y_true,y_pred):\n",
        "  \n",
        "  smooth = 1\n",
        "  intersection = tf.reduce_sum(y_true * y_pred)\n",
        "  dice_score = (2 * intersection + smooth) / (tf.reduce_sum(y_true) + tf.reduce_sum(y_pred) + smooth)\n",
        "  dice_score = tf.cast(dice_score,'float32')\n",
        "  \n",
        "  return dice_score\n",
        "\n",
        "@tf.function\n",
        "def Bce_dice_loss(y_true, y_predict): #combination of dice loss and binary cross entropy for all pixels\n",
        "    return binary_crossentropy(y_true, y_predict) + (1-Dicecoef(y_true, y_predict))"
      ],
      "execution_count": null,
      "outputs": []
    },
    {
      "cell_type": "markdown",
      "metadata": {
        "id": "4My7SGa0LGUD"
      },
      "source": [
        "## 4. Loading our models(Binary & segmentation):"
      ]
    },
    {
      "cell_type": "code",
      "metadata": {
        "id": "Q1nyHTT9KHDC",
        "outputId": "7ba4a4cb-0e0f-453d-ccde-7a34a7ec63bf",
        "colab": {
          "base_uri": "https://localhost:8080/",
          "height": 102
        }
      },
      "source": [
        "import logging\n",
        "logging.getLogger('tensorflow').disabled = True\n",
        "\n",
        "\n",
        "\n",
        "# loading binary model:\n",
        "Binary_model = tf.keras.models.load_model('/content/drive/My Drive/seg_models/binary_model/cp.ckpt/')\n",
        "print(\"Binary model loaded\")\n",
        "\n",
        "\n",
        "# loading segmentation model:\n",
        "defect_1_model = tf.keras.models.load_model('/content/drive/My Drive/seg_models/defect_1/cp.ckpt/',\n",
        "                                            custom_objects={'Bce_dice_loss':Bce_dice_loss,'Dicecoef':Dicecoef})\n",
        "print(\"Seg model_1 loaded\")\n",
        "\n",
        "\n",
        "defect_2_model = tf.keras.models.load_model('/content/drive/My Drive/seg_models/defect_2/cp.ckpt/',\n",
        "                                            custom_objects={'Bce_dice_loss':Bce_dice_loss,'Dicecoef':Dicecoef})\n",
        "print(\"Seg model_2 loaded\")\n",
        "\n",
        "\n",
        "defect_3_model = tf.keras.models.load_model('/content/drive/My Drive/seg_models/defect_3/cp.ckpt/',\n",
        "                                            custom_objects={'Bce_dice_loss':Bce_dice_loss,'Dicecoef':Dicecoef})\n",
        "print(\"Seg model_3 loaded\")\n",
        "\n",
        "\n",
        "defect_4_model = tf.keras.models.load_model('/content/drive/My Drive/seg_models/defect_4/cp.ckpt/',\n",
        "                                            custom_objects={'Bce_dice_loss':Bce_dice_loss,'Dicecoef':Dicecoef})\n",
        "print(\"Seg model_4 loaded\")"
      ],
      "execution_count": null,
      "outputs": [
        {
          "output_type": "stream",
          "text": [
            "Binary model loaded\n",
            "Seg model_1 loaded\n",
            "Seg model_2 loaded\n",
            "Seg model_3 loaded\n",
            "Seg model_4 loaded\n"
          ],
          "name": "stdout"
        }
      ]
    },
    {
      "cell_type": "code",
      "metadata": {
        "id": "dezoJOdRHlfX"
      },
      "source": [
        ""
      ],
      "execution_count": null,
      "outputs": []
    },
    {
      "cell_type": "markdown",
      "metadata": {
        "id": "_1fNmUFk-GSj"
      },
      "source": [
        "### Building final pipeline:"
      ]
    },
    {
      "cell_type": "code",
      "metadata": {
        "id": "Ysdf1x0wDK5I",
        "outputId": "d8f3fec2-bd1f-401f-f49e-742e384e4e00",
        "colab": {
          "base_uri": "https://localhost:8080/",
          "height": 34
        }
      },
      "source": [
        "df = pd.DataFrame(columns=['ImageId_ClassId','EncodedPixels'])\n",
        "\n",
        "for test_sample in tqdm(sample_test_6['Images']):\n",
        "\n",
        "  img_id_1 = os.path.split(test_sample)[1]+'_1' # ex: abc.jpg_1\n",
        "  img_id_2 = os.path.split(test_sample)[1]+'_2' # ex: abc.jpg_2\n",
        "  img_id_3 = os.path.split(test_sample)[1]+'_3' # ex: abc.jpg_3\n",
        "  img_id_4 = os.path.split(test_sample)[1]+'_4' # ex: abc.jpg_4\n",
        "\n",
        "  image = val_image_resize(test_sample)\n",
        "  image_reshaped = np.expand_dims(image,axis=0)\n",
        "\n",
        "  if Binary_model.predict(image_reshaped)>0.5:\n",
        "\n",
        "    predicted_mask_1 = defect_1_model.predict(image_reshaped)\n",
        "    predicted_mask_1 = np.squeeze(predicted_mask_1, axis=-1)\n",
        "    predicted_mask_1 = np.squeeze(predicted_mask_1, axis=0)\n",
        "    predicted_mask_1 = Image.fromarray(predicted_mask_1)\n",
        "    rle_1            = mask2rle(np.array(predicted_mask_1.resize((1600,256)))>0.5)\n",
        "\n",
        "    predicted_mask_2 = defect_2_model.predict(image_reshaped)\n",
        "    predicted_mask_2 = np.squeeze(predicted_mask_2, axis=-1)\n",
        "    predicted_mask_2 = np.squeeze(predicted_mask_2, axis=0)\n",
        "    predicted_mask_2 = Image.fromarray(predicted_mask_2)\n",
        "    rle_2            = mask2rle(np.array(predicted_mask_2.resize((1600,256)))>0.5)\n",
        "\n",
        "    predicted_mask_3 = defect_3_model.predict(image_reshaped)\n",
        "    predicted_mask_3 = np.squeeze(predicted_mask_3, axis=-1)\n",
        "    predicted_mask_3 = np.squeeze(predicted_mask_3, axis=0)\n",
        "    predicted_mask_3 = Image.fromarray(predicted_mask_3)\n",
        "    rle_3            = mask2rle(np.array(predicted_mask_3.resize((1600,256)))>0.5)\n",
        "\n",
        "    predicted_mask_4 = defect_4_model.predict(image_reshaped)\n",
        "    predicted_mask_4 = np.squeeze(predicted_mask_4, axis=-1)\n",
        "    predicted_mask_4 = np.squeeze(predicted_mask_4, axis=0)\n",
        "    predicted_mask_4 = Image.fromarray(predicted_mask_4)\n",
        "    rle_4            = mask2rle(np.array(predicted_mask_4.resize((1600,256)))>0.5)\n",
        "    \n",
        "\n",
        "  else:\n",
        "    rle_1 = \"\"\n",
        "    rle_2 = \"\"\n",
        "    rle_3 = \"\"\n",
        "    rle_4 = \"\"\n",
        "  \n",
        "\n",
        "  new_row_1=[img_id_1,rle_1]\n",
        "  new_row_2=[img_id_2,rle_2]\n",
        "  new_row_3=[img_id_3,rle_3]\n",
        "  new_row_4=[img_id_4,rle_4]\n",
        "\n",
        "  df_length = len(df)\n",
        "    \n",
        "  df.loc[df_length]   = new_row_1\n",
        "  df.loc[df_length+1] = new_row_2\n",
        "  df.loc[df_length+2] = new_row_3\n",
        "  df.loc[df_length+3] = new_row_4"
      ],
      "execution_count": null,
      "outputs": [
        {
          "output_type": "stream",
          "text": [
            "100%|██████████| 505/505 [01:49<00:00,  4.63it/s]\n"
          ],
          "name": "stderr"
        }
      ]
    },
    {
      "cell_type": "code",
      "metadata": {
        "id": "khg4UAPNiA0Y"
      },
      "source": [
        "final_predictions = df "
      ],
      "execution_count": null,
      "outputs": []
    },
    {
      "cell_type": "code",
      "metadata": {
        "id": "XWqvnaMQiApg"
      },
      "source": [
        "final_predictions.to_pickle(\"/content/drive/My Drive/seg_models/final_predictions.pkl\")"
      ],
      "execution_count": null,
      "outputs": []
    },
    {
      "cell_type": "code",
      "metadata": {
        "id": "zomCCuREiAel"
      },
      "source": [
        "final_predictions.to_csv(\"/content/drive/My Drive/seg_models/final_predictions.csv\")"
      ],
      "execution_count": null,
      "outputs": []
    },
    {
      "cell_type": "code",
      "metadata": {
        "id": "OYiQ0dOMVhPK",
        "outputId": "19be1350-82fb-4ac6-cbb7-db3ee86f689c",
        "colab": {
          "base_uri": "https://localhost:8080/",
          "height": 204
        }
      },
      "source": [
        "final_predictions.head()"
      ],
      "execution_count": null,
      "outputs": [
        {
          "output_type": "execute_result",
          "data": {
            "text/html": [
              "<div>\n",
              "<style scoped>\n",
              "    .dataframe tbody tr th:only-of-type {\n",
              "        vertical-align: middle;\n",
              "    }\n",
              "\n",
              "    .dataframe tbody tr th {\n",
              "        vertical-align: top;\n",
              "    }\n",
              "\n",
              "    .dataframe thead th {\n",
              "        text-align: right;\n",
              "    }\n",
              "</style>\n",
              "<table border=\"1\" class=\"dataframe\">\n",
              "  <thead>\n",
              "    <tr style=\"text-align: right;\">\n",
              "      <th></th>\n",
              "      <th>ImageId_ClassId</th>\n",
              "      <th>EncodedPixels</th>\n",
              "    </tr>\n",
              "  </thead>\n",
              "  <tbody>\n",
              "    <tr>\n",
              "      <th>0</th>\n",
              "      <td>0d8ba3c7a.jpg_1</td>\n",
              "      <td></td>\n",
              "    </tr>\n",
              "    <tr>\n",
              "      <th>1</th>\n",
              "      <td>0d8ba3c7a.jpg_2</td>\n",
              "      <td></td>\n",
              "    </tr>\n",
              "    <tr>\n",
              "      <th>2</th>\n",
              "      <td>0d8ba3c7a.jpg_3</td>\n",
              "      <td></td>\n",
              "    </tr>\n",
              "    <tr>\n",
              "      <th>3</th>\n",
              "      <td>0d8ba3c7a.jpg_4</td>\n",
              "      <td></td>\n",
              "    </tr>\n",
              "    <tr>\n",
              "      <th>4</th>\n",
              "      <td>89cc16612.jpg_1</td>\n",
              "      <td></td>\n",
              "    </tr>\n",
              "  </tbody>\n",
              "</table>\n",
              "</div>"
            ],
            "text/plain": [
              "   ImageId_ClassId EncodedPixels\n",
              "0  0d8ba3c7a.jpg_1              \n",
              "1  0d8ba3c7a.jpg_2              \n",
              "2  0d8ba3c7a.jpg_3              \n",
              "3  0d8ba3c7a.jpg_4              \n",
              "4  89cc16612.jpg_1              "
            ]
          },
          "metadata": {
            "tags": []
          },
          "execution_count": 19
        }
      ]
    },
    {
      "cell_type": "markdown",
      "metadata": {
        "id": "mpfVRIHD9_pt"
      },
      "source": [
        "#### submission in kaggle:"
      ]
    },
    {
      "cell_type": "code",
      "metadata": {
        "id": "rYs3xv2m9Xgb",
        "outputId": "c949b7c0-35d9-477f-d334-cc9487fa0a74",
        "colab": {
          "base_uri": "https://localhost:8080/",
          "height": 277
        }
      },
      "source": [
        "from IPython.display import Image\n",
        "Image(filename='/content/Screenshot (148).png')"
      ],
      "execution_count": null,
      "outputs": [
        {
          "output_type": "execute_result",
          "data": {
            "image/png": "[encoded data removed]",
            "text/plain": [
              "<IPython.core.display.Image object>"
            ]
          },
          "metadata": {
            "tags": []
          },
          "execution_count": 1
        }
      ]
    }
  ]
}